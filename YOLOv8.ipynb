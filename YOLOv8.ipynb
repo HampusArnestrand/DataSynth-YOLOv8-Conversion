{
  "cells": [
    {
      "cell_type": "code",
      "execution_count": 1,
      "metadata": {
        "colab": {
          "base_uri": "https://localhost:8080/",
          "height": 384
        },
        "id": "QJh9n4n4qaiD",
        "outputId": "a4c0a392-f846-476b-ade3-131f217a25cc"
      },
      "outputs": [
        {
          "name": "stdout",
          "output_type": "stream",
          "text": [
            "using gpu\n"
          ]
        }
      ],
      "source": [
        "#Import packages and define functions\n",
        "import json\n",
        "import os\n",
        "from PIL import Image\n",
        "from ultralytics import YOLO\n",
        "import shutil\n",
        "import random\n",
        "import torch\n",
        "\n",
        "if torch.cuda.is_available():\n",
        "    torch.cuda.set_device(0) # Set to your desired GPU number\n",
        "    print('using gpu')\n",
        "\n",
        "home = os.path.expanduser(\"~\")\n",
        "\n",
        "def create_yolo_folders(path):\n",
        "    \"\"\"\n",
        "    Creates the folder structure needed by the YOLO format.\n",
        "    \"\"\"\n",
        "\n",
        "    os.mkdir(path)\n",
        "    path_images = os.path.join(path, 'images')\n",
        "    path_labels = os.path.join(path, 'labels')\n",
        "\n",
        "    # Create folder structure.\n",
        "    os.mkdir(path_images)\n",
        "    os.mkdir(path_labels)\n",
        "    os.mkdir(os.path.join(path_images, 'train'))\n",
        "    os.mkdir(os.path.join(path_images, 'val'))\n",
        "    os.mkdir(os.path.join(path_images, 'test'))\n",
        "    os.mkdir(os.path.join(path_labels, 'train'))\n",
        "    os.mkdir(os.path.join(path_labels, 'val'))\n",
        "    os.mkdir(os.path.join(path_labels, 'test'))\n",
        "\n",
        "    print(f\"Created {path} directory and subdirectories.\")\n",
        "\n",
        "def convert_format_perception_to_yolo(src_folder='./solo/',\n",
        "                                      dst_folder='./Converted_data/',\n",
        "                                      copy_images=False,\n",
        "                                      train_cutoff=70,\n",
        "                                      val_cutoff=90,\n",
        "                                      minVisibility=0.2):\n",
        "    \"\"\"\n",
        "    Converts the synthetic data from the SOLO format output by the Perception package to\n",
        "    the format used by YOLO. Also splits the data into a train, validation, and test set\n",
        "    according to the values of dataset_size, train_cutoff, and val_cutoff.\n",
        "    \"\"\"\n",
        "\n",
        "    # Create destination folders in the yolo format.\n",
        "    try:\n",
        "        create_yolo_folders(dst_folder)\n",
        "    except OSError as error:\n",
        "        print(f'Folder {dst_folder} already exists.')\n",
        "\n",
        "    folder = 'train'\n",
        "    \n",
        "    # Loop over all the files.\n",
        "    for (root, dirs,files) in (os.walk(src_folder)):\n",
        "        dirs.sort(key=lambda directory: int(directory.split('.')[1]))\n",
        "\n",
        "        image_nr = root.split('.')[-1]\n",
        "\n",
        "        print(root)\n",
        "        # Ignore everything except the sequence.X directories.\n",
        "        if 'sequence' not in root:\n",
        "            continue\n",
        "        if root.endswith('sequence.0'):\n",
        "            continue\n",
        "\n",
        "        # Choose the correct folder name.\n",
        "        if int(image_nr) >= train_cutoff:\n",
        "            folder = 'val'\n",
        "        if int(image_nr) >= val_cutoff:\n",
        "            folder = 'test'\n",
        "\n",
        "        \n",
        "\n",
        "        # Get the images width and height. Copy the image to the YOLO images directory.\n",
        "        image_path = os.path.join(root, 'step0.camera.png')\n",
        "        image = Image.open(image_path, 'r')\n",
        "        image_width, image_height = image.size\n",
        "        image_cpy_path = os.path.join(dst_folder, 'images', folder, f'{image_nr}.png')\n",
        "\n",
        "        if copy_images:\n",
        "            image.save(image_cpy_path)\n",
        "            image.close()\n",
        "        else:\n",
        "            image.close()\n",
        "            shutil.move(image_path, image_cpy_path)\n",
        "\n",
        "        # Read the bounding box data from the json files.\n",
        "        label_path = os.path.join(root, 'step0.frame_data.json')\n",
        "        with open(label_path, 'r') as f:\n",
        "            example_data = json.load(f)\n",
        "\n",
        "            \n",
        "\n",
        "            bbox_string = ''\n",
        "\n",
        "            try:\n",
        "                values = example_data['captures'][0]['annotations'][0]['values']\n",
        "                for i, bbox in enumerate(values):\n",
        "                    # Calculate the center of the bounding boxes.\n",
        "                    x_center = bbox['origin'][0] + 0.5 * bbox['dimension'][0]\n",
        "                    y_center = bbox['origin'][1] + 0.5 * bbox['dimension'][1]\n",
        "\n",
        "                    # Normalize the xywh as described in the YOLO Ultralytics docs:\n",
        "                    # https://docs.ultralytics.com/yolov5/tutorials/train_custom_data/\n",
        "                    x = x_center / image_width\n",
        "                    y = y_center / image_height\n",
        "                    w = bbox['dimension'][0] / image_width\n",
        "                    h = bbox['dimension'][1] / image_height\n",
        "                    #remove occluded bboxes\n",
        "                    if example_data['metrics'][4]['values'][i]['percentVisible'] < minVisibility:\n",
        "                        continue\n",
        "\n",
        "                    yolo_bbox = f\"{bbox['labelId']} {x} {y} {w} {h}\\n\"\n",
        "                    print(yolo_bbox)\n",
        "\n",
        "                    bbox_string += yolo_bbox\n",
        "            except KeyError:\n",
        "                print('No bounding boxes')\n",
        "\n",
        "            label_file_path = os.path.join(dst_folder, 'labels', folder, f'{image_nr}.txt')\n",
        "            with open(label_file_path, 'w') as label:\n",
        "                label.write(bbox_string)\n",
        "    \n",
        "\n",
        "def create_yaml(yaml_name, yolo_data,labels):\n",
        "    \"\"\"\n",
        "    This function is used to quickly create the YOLO yaml files.\n",
        "    \"\"\"\n",
        "    if os.path.exists(yaml_name):\n",
        "        os.remove(yaml_name)\n",
        "\n",
        "    names=''\n",
        "    for l in labels:\n",
        "        names+=f'    {l[0]}: {l[1]}\\n'\n",
        "\n",
        "    yaml_contents = f\"\"\"path: {yolo_data} # dataset root dir\n",
        "train: images/train  # train images (relative to 'path')\n",
        "val: images/val  # val images (relative to 'path')\n",
        "test: images/test # test images (optional)\n",
        "\n",
        "names:\n",
        "{names}\"\"\"\n",
        "\n",
        "    with open(yaml_name, 'w') as yaml_file:\n",
        "        yaml_file.write(yaml_contents)\n",
        "\n",
        "    print(f'Yaml file {yaml_name} created.')\n",
        "\n",
        "\n",
        "def include_bg_photos(yolo_data, \n",
        "                      background_photos=r'./Background_photos', \n",
        "                      desired_fraction = 0.05):\n",
        "    \"\"\"\n",
        "    Includes a fraction of unlabeled background images in the dataset \n",
        "    \"\"\"\n",
        "    \n",
        "    desired_images = (desired_fraction/(1-desired_fraction))*(len(os.listdir(f'{yolo_data}\\\\images\\\\train'))+len(os.listdir(f'{yolo_data}\\\\images\\\\val')))\n",
        "    photos = os.listdir(background_photos)\n",
        "    random.shuffle(photos)\n",
        "    n = min(desired_images,len(photos))\n",
        "    print(f'Desired amount of bg-images={desired_images}, using {n} images.')\n",
        "    \n",
        "    for i,(files) in enumerate(photos):\n",
        "        if i < round(0.8*n):\n",
        "            shutil.copy(background_photos+f'\\\\{files}',f'{yolo_data}\\\\images\\\\train')\n",
        "        elif i < n:\n",
        "            shutil.copy(background_photos+f'\\\\{files}',f'{yolo_data}\\\\images\\\\val')\n",
        "        else:\n",
        "            print(f'{i} bg photos included.')\n",
        "            break\n",
        "\n",
        "        \n",
        "def get_labels(solo_folder):\n",
        "    \"\"\"\n",
        "    Gets the labels and corresponding id from the perception data.\n",
        "    \"\"\"\n",
        "  \n",
        "    with open(solo_folder+r'\\sequence.2\\step0.frame_data.json', 'r') as f:\n",
        "        json_data = json.load(f)\n",
        "    labels = []\n",
        "    \n",
        "    for IDs in json_data['metrics'][3]['values']:\n",
        "        id = IDs['labelId']\n",
        "        label_name = IDs['labelName']\n",
        "        labels.append((id,label_name))\n",
        "    print(labels)\n",
        "    return labels"
      ]
    },
    {
      "cell_type": "code",
      "execution_count": null,
      "metadata": {
        "colab": {
          "base_uri": "https://localhost:8080/"
        },
        "id": "cuwbaNydimIn",
        "outputId": "93a0f375-ba76-45d8-e777-7e52df040b06"
      },
      "outputs": [],
      "source": [
        "#Data convertion\n",
        "\n",
        "#choose dataset locations\n",
        "solo_folder=r'./solo'\n",
        "dataset_name='cone_1000_newRand_2'\n",
        "dst=f'{home}/datasets/{dataset_name}'\n",
        "background_photos=r'./Background_photos'\n",
        "\n",
        "#prepares the dataset for yolov8 training\n",
        "if not os.path.exists(home + '/datasets'):\n",
        "    os.mkdir(home + '/datasets')\n",
        "    \n",
        "labels = get_labels(solo_folder)\n",
        "with open(solo_folder+'\\metadata.json', 'r') as f:\n",
        "        metadata = json.load(f)\n",
        "dataset_size=metadata['totalFrames']\n",
        "print(f'Dataset size = {dataset_size}')\n",
        "\n",
        "convert_format_perception_to_yolo(src_folder=solo_folder,\n",
        "                                  dst_folder=dst,\n",
        "                                  copy_images=False, #Copy if original solo data are to be used again\n",
        "                                  train_cutoff=round(dataset_size*0.8),\n",
        "                                  val_cutoff=dataset_size,\n",
        "                                  minVisibility=0.2)\n",
        "\n",
        "create_yaml(f'{dst}/{dataset_name}.yaml',\n",
        "             dst,labels)\n",
        "\n",
        "include_bg_photos(dst,\n",
        "                  background_photos=background_photos, \n",
        "                  desired_fraction = 0.05)\n"
      ]
    },
    {
      "cell_type": "code",
      "execution_count": 25,
      "metadata": {},
      "outputs": [
        {
          "name": "stdout",
          "output_type": "stream",
          "text": [
            "Yaml file /home/campus/datasets/cone_1000_newRand_2/cone_1000_newRand_2.yaml created.\n"
          ]
        }
      ],
      "source": [
        "#This is just to create the yaml file if the dataset is converted already\n",
        "\n",
        "#choose dataset\n",
        "dataset_name='cone_1000_newRand_2'\n",
        "dst=f'{home}/datasets/{dataset_name}'\n",
        "\n",
        "#creates yaml file with manual list of labels below\n",
        "labels = [(0, 'cone')]\n",
        "if not os.path.exists(home + '/datasets'):\n",
        "    os.mkdir(home + '/datasets')\n",
        "create_yaml(f'{dst}/{dataset_name}.yaml',\n",
        "             dst,labels)"
      ]
    },
    {
      "cell_type": "code",
      "execution_count": 6,
      "metadata": {
        "colab": {
          "base_uri": "https://localhost:8080/",
          "height": 211
        },
        "id": "fXbtVAZSiqAD",
        "outputId": "e378cb70-d1ef-4383-d4d9-f9eefc97d678"
      },
      "outputs": [
        {
          "name": "stdout",
          "output_type": "stream",
          "text": [
            "Ultralytics YOLOv8.2.10 🚀 Python-3.12.3 torch-2.3.0+cu121 CUDA:0 (NVIDIA RTX A3000 12GB Laptop GPU, 12045MiB)\n",
            "\u001b[34m\u001b[1mengine/trainer: \u001b[0mtask=detect, mode=train, model=yolov8s.pt, data=/home/campus/datasets/cone_1000_newRand_2/cone_1000_newRand_2.yaml, epochs=35, time=None, patience=100, batch=-1, imgsz=1280, save=True, save_period=-1, cache=True, device=None, workers=8, project=None, name=cone_1000_newRand_23, exist_ok=False, pretrained=True, optimizer=auto, verbose=True, seed=0, deterministic=True, single_cls=False, rect=False, cos_lr=False, close_mosaic=10, resume=False, amp=True, fraction=1.0, profile=False, freeze=None, multi_scale=False, overlap_mask=True, mask_ratio=4, dropout=0.0, val=True, split=val, save_json=False, save_hybrid=False, conf=None, iou=0.7, max_det=300, half=False, dnn=False, plots=True, source=None, vid_stride=1, stream_buffer=False, visualize=False, augment=False, agnostic_nms=False, classes=None, retina_masks=False, embed=None, show=False, save_frames=False, save_txt=False, save_conf=False, save_crop=False, show_labels=True, show_conf=True, show_boxes=True, line_width=None, format=torchscript, keras=False, optimize=False, int8=False, dynamic=False, simplify=False, opset=None, workspace=4, nms=False, lr0=0.01, lrf=0.01, momentum=0.937, weight_decay=0.0005, warmup_epochs=3.0, warmup_momentum=0.8, warmup_bias_lr=0.1, box=7.5, cls=0.5, dfl=1.5, pose=12.0, kobj=1.0, label_smoothing=0.0, nbs=64, hsv_h=0.015, hsv_s=0.7, hsv_v=0.4, degrees=0.0, translate=0.1, scale=0.5, shear=0.0, perspective=0.0, flipud=0.0, fliplr=0.5, bgr=0.0, mosaic=1.0, mixup=0.0, copy_paste=0.0, auto_augment=randaugment, erasing=0.4, crop_fraction=1.0, cfg=None, tracker=botsort.yaml, save_dir=runs/detect/cone_1000_newRand_23\n",
            "Overriding model.yaml nc=80 with nc=1\n",
            "\n",
            "                   from  n    params  module                                       arguments                     \n",
            "  0                  -1  1       928  ultralytics.nn.modules.conv.Conv             [3, 32, 3, 2]                 \n",
            "  1                  -1  1     18560  ultralytics.nn.modules.conv.Conv             [32, 64, 3, 2]                \n",
            "  2                  -1  1     29056  ultralytics.nn.modules.block.C2f             [64, 64, 1, True]             \n",
            "  3                  -1  1     73984  ultralytics.nn.modules.conv.Conv             [64, 128, 3, 2]               \n",
            "  4                  -1  2    197632  ultralytics.nn.modules.block.C2f             [128, 128, 2, True]           \n",
            "  5                  -1  1    295424  ultralytics.nn.modules.conv.Conv             [128, 256, 3, 2]              \n",
            "  6                  -1  2    788480  ultralytics.nn.modules.block.C2f             [256, 256, 2, True]           \n",
            "  7                  -1  1   1180672  ultralytics.nn.modules.conv.Conv             [256, 512, 3, 2]              \n",
            "  8                  -1  1   1838080  ultralytics.nn.modules.block.C2f             [512, 512, 1, True]           \n",
            "  9                  -1  1    656896  ultralytics.nn.modules.block.SPPF            [512, 512, 5]                 \n",
            " 10                  -1  1         0  torch.nn.modules.upsampling.Upsample         [None, 2, 'nearest']          \n",
            " 11             [-1, 6]  1         0  ultralytics.nn.modules.conv.Concat           [1]                           \n",
            " 12                  -1  1    591360  ultralytics.nn.modules.block.C2f             [768, 256, 1]                 \n",
            " 13                  -1  1         0  torch.nn.modules.upsampling.Upsample         [None, 2, 'nearest']          \n",
            " 14             [-1, 4]  1         0  ultralytics.nn.modules.conv.Concat           [1]                           \n",
            " 15                  -1  1    148224  ultralytics.nn.modules.block.C2f             [384, 128, 1]                 \n",
            " 16                  -1  1    147712  ultralytics.nn.modules.conv.Conv             [128, 128, 3, 2]              \n",
            " 17            [-1, 12]  1         0  ultralytics.nn.modules.conv.Concat           [1]                           \n",
            " 18                  -1  1    493056  ultralytics.nn.modules.block.C2f             [384, 256, 1]                 \n",
            " 19                  -1  1    590336  ultralytics.nn.modules.conv.Conv             [256, 256, 3, 2]              \n",
            " 20             [-1, 9]  1         0  ultralytics.nn.modules.conv.Concat           [1]                           \n",
            " 21                  -1  1   1969152  ultralytics.nn.modules.block.C2f             [768, 512, 1]                 \n",
            " 22        [15, 18, 21]  1   2116435  ultralytics.nn.modules.head.Detect           [1, [128, 256, 512]]          \n",
            "Model summary: 225 layers, 11135987 parameters, 11135971 gradients, 28.6 GFLOPs\n",
            "\n",
            "Transferred 349/355 items from pretrained weights\n",
            "Freezing layer 'model.22.dfl.conv.weight'\n",
            "\u001b[34m\u001b[1mAMP: \u001b[0mrunning Automatic Mixed Precision (AMP) checks with YOLOv8n...\n",
            "\u001b[34m\u001b[1mAMP: \u001b[0mchecks passed ✅\n",
            "\u001b[34m\u001b[1mAutoBatch: \u001b[0mComputing optimal batch size for imgsz=1280\n",
            "\u001b[34m\u001b[1mAutoBatch: \u001b[0mCUDA:0 (NVIDIA RTX A3000 12GB Laptop GPU) 11.76G total, 0.57G reserved, 0.29G allocated, 10.91G free\n",
            "      Params      GFLOPs  GPU_mem (GB)  forward (ms) backward (ms)                   input                  output\n",
            "    11135987       114.6         1.281         14.72          24.3      (1, 3, 1280, 1280)                    list\n",
            "    11135987       229.2         1.911         28.96         36.13      (2, 3, 1280, 1280)                    list\n",
            "    11135987       458.4         3.588         53.47         61.78      (4, 3, 1280, 1280)                    list\n",
            "    11135987       916.7         6.979         107.9         115.3      (8, 3, 1280, 1280)                    list\n",
            "CUDA out of memory. Tried to allocate 52.00 MiB. GPU \n",
            "\u001b[34m\u001b[1mAutoBatch: \u001b[0mUsing batch-size 7 for CUDA:0 6.98G/11.76G (59%) ✅\n"
          ]
        },
        {
          "name": "stderr",
          "output_type": "stream",
          "text": [
            "\u001b[34m\u001b[1mtrain: \u001b[0mScanning /home/campus/datasets/cone_1000_newRand_2/labels/train.cache... 800 images, 62 backgrounds, 0 corrupt: 100%|██████████| 842/842 [00:00<?, ?it/s]\n",
            "\u001b[34m\u001b[1mtrain: \u001b[0mCaching images (2.2GB RAM): 100%|██████████| 842/842 [00:03<00:00, 230.16it/s]\n",
            "\u001b[34m\u001b[1mval: \u001b[0mScanning /home/campus/datasets/cone_1000_newRand_2/labels/val.cache... 200 images, 14 backgrounds, 0 corrupt: 100%|██████████| 211/211 [00:00<?, ?it/s]\n",
            "\u001b[34m\u001b[1mval: \u001b[0mCaching images (0.6GB RAM): 100%|██████████| 211/211 [00:00<00:00, 220.58it/s]\n"
          ]
        },
        {
          "name": "stdout",
          "output_type": "stream",
          "text": [
            "Plotting labels to runs/detect/cone_1000_newRand_23/labels.jpg... \n",
            "\u001b[34m\u001b[1moptimizer:\u001b[0m 'optimizer=auto' found, ignoring 'lr0=0.01' and 'momentum=0.937' and determining best 'optimizer', 'lr0' and 'momentum' automatically... \n",
            "\u001b[34m\u001b[1moptimizer:\u001b[0m AdamW(lr=0.002, momentum=0.9) with parameter groups 57 weight(decay=0.0), 64 weight(decay=0.0004921875), 63 bias(decay=0.0)\n",
            "Image sizes 1280 train, 1280 val\n",
            "Using 8 dataloader workers\n",
            "Logging results to \u001b[1mruns/detect/cone_1000_newRand_23\u001b[0m\n",
            "Starting training for 35 epochs...\n",
            "\n",
            "      Epoch    GPU_mem   box_loss   cls_loss   dfl_loss  Instances       Size\n"
          ]
        },
        {
          "name": "stderr",
          "output_type": "stream",
          "text": [
            "       1/35      8.18G     0.6361      1.611      1.086          7       1280: 100%|██████████| 121/121 [00:36<00:00,  3.30it/s]\n",
            "                 Class     Images  Instances      Box(P          R      mAP50  mAP50-95): 100%|██████████| 16/16 [00:02<00:00,  6.11it/s]\n"
          ]
        },
        {
          "name": "stdout",
          "output_type": "stream",
          "text": [
            "                   all        211        861      0.817       0.83      0.885       0.69\n",
            "\n",
            "      Epoch    GPU_mem   box_loss   cls_loss   dfl_loss  Instances       Size\n"
          ]
        },
        {
          "name": "stderr",
          "output_type": "stream",
          "text": [
            "       2/35      8.29G     0.6601     0.7032      1.058         15       1280: 100%|██████████| 121/121 [00:36<00:00,  3.31it/s]\n",
            "                 Class     Images  Instances      Box(P          R      mAP50  mAP50-95): 100%|██████████| 16/16 [00:02<00:00,  6.71it/s]"
          ]
        },
        {
          "name": "stdout",
          "output_type": "stream",
          "text": [
            "                   all        211        861      0.835      0.808      0.883      0.667\n"
          ]
        },
        {
          "name": "stderr",
          "output_type": "stream",
          "text": [
            "\n"
          ]
        },
        {
          "name": "stdout",
          "output_type": "stream",
          "text": [
            "\n",
            "      Epoch    GPU_mem   box_loss   cls_loss   dfl_loss  Instances       Size\n"
          ]
        },
        {
          "name": "stderr",
          "output_type": "stream",
          "text": [
            "       3/35      8.33G     0.6642     0.6841      1.049         11       1280: 100%|██████████| 121/121 [00:36<00:00,  3.30it/s]\n",
            "                 Class     Images  Instances      Box(P          R      mAP50  mAP50-95): 100%|██████████| 16/16 [00:02<00:00,  6.70it/s]"
          ]
        },
        {
          "name": "stdout",
          "output_type": "stream",
          "text": [
            "                   all        211        861      0.863      0.847      0.918      0.743\n"
          ]
        },
        {
          "name": "stderr",
          "output_type": "stream",
          "text": [
            "\n"
          ]
        },
        {
          "name": "stdout",
          "output_type": "stream",
          "text": [
            "\n",
            "      Epoch    GPU_mem   box_loss   cls_loss   dfl_loss  Instances       Size\n"
          ]
        },
        {
          "name": "stderr",
          "output_type": "stream",
          "text": [
            "       4/35      8.29G     0.6713     0.6217      1.046          6       1280: 100%|██████████| 121/121 [00:36<00:00,  3.29it/s]\n",
            "                 Class     Images  Instances      Box(P          R      mAP50  mAP50-95): 100%|██████████| 16/16 [00:02<00:00,  6.70it/s]"
          ]
        },
        {
          "name": "stdout",
          "output_type": "stream",
          "text": [
            "                   all        211        861      0.879      0.882      0.942      0.753\n"
          ]
        },
        {
          "name": "stderr",
          "output_type": "stream",
          "text": [
            "\n"
          ]
        },
        {
          "name": "stdout",
          "output_type": "stream",
          "text": [
            "\n",
            "      Epoch    GPU_mem   box_loss   cls_loss   dfl_loss  Instances       Size\n"
          ]
        },
        {
          "name": "stderr",
          "output_type": "stream",
          "text": [
            "       5/35      8.34G     0.6092      0.541      1.021         10       1280: 100%|██████████| 121/121 [00:36<00:00,  3.28it/s]\n",
            "                 Class     Images  Instances      Box(P          R      mAP50  mAP50-95): 100%|██████████| 16/16 [00:02<00:00,  6.82it/s]"
          ]
        },
        {
          "name": "stdout",
          "output_type": "stream",
          "text": [
            "                   all        211        861      0.926      0.926      0.968      0.841\n"
          ]
        },
        {
          "name": "stderr",
          "output_type": "stream",
          "text": [
            "\n"
          ]
        },
        {
          "name": "stdout",
          "output_type": "stream",
          "text": [
            "\n",
            "      Epoch    GPU_mem   box_loss   cls_loss   dfl_loss  Instances       Size\n"
          ]
        },
        {
          "name": "stderr",
          "output_type": "stream",
          "text": [
            "       6/35      8.35G      0.544     0.4868     0.9834         19       1280: 100%|██████████| 121/121 [00:37<00:00,  3.26it/s]\n",
            "                 Class     Images  Instances      Box(P          R      mAP50  mAP50-95): 100%|██████████| 16/16 [00:02<00:00,  6.62it/s]"
          ]
        },
        {
          "name": "stdout",
          "output_type": "stream",
          "text": [
            "                   all        211        861      0.925      0.913       0.97       0.84\n"
          ]
        },
        {
          "name": "stderr",
          "output_type": "stream",
          "text": [
            "\n"
          ]
        },
        {
          "name": "stdout",
          "output_type": "stream",
          "text": [
            "\n",
            "      Epoch    GPU_mem   box_loss   cls_loss   dfl_loss  Instances       Size\n"
          ]
        },
        {
          "name": "stderr",
          "output_type": "stream",
          "text": [
            "       7/35      8.27G     0.5175     0.4737     0.9789          7       1280: 100%|██████████| 121/121 [00:38<00:00,  3.18it/s]\n",
            "                 Class     Images  Instances      Box(P          R      mAP50  mAP50-95): 100%|██████████| 16/16 [00:02<00:00,  6.57it/s]"
          ]
        },
        {
          "name": "stdout",
          "output_type": "stream",
          "text": [
            "                   all        211        861      0.939      0.935      0.978      0.864\n"
          ]
        },
        {
          "name": "stderr",
          "output_type": "stream",
          "text": [
            "\n"
          ]
        },
        {
          "name": "stdout",
          "output_type": "stream",
          "text": [
            "\n",
            "      Epoch    GPU_mem   box_loss   cls_loss   dfl_loss  Instances       Size\n"
          ]
        },
        {
          "name": "stderr",
          "output_type": "stream",
          "text": [
            "       8/35       8.3G     0.4962     0.4378      0.966         16       1280: 100%|██████████| 121/121 [00:38<00:00,  3.16it/s]\n",
            "                 Class     Images  Instances      Box(P          R      mAP50  mAP50-95): 100%|██████████| 16/16 [00:02<00:00,  6.52it/s]"
          ]
        },
        {
          "name": "stdout",
          "output_type": "stream",
          "text": [
            "                   all        211        861       0.94      0.915      0.966      0.858\n"
          ]
        },
        {
          "name": "stderr",
          "output_type": "stream",
          "text": [
            "\n"
          ]
        },
        {
          "name": "stdout",
          "output_type": "stream",
          "text": [
            "\n",
            "      Epoch    GPU_mem   box_loss   cls_loss   dfl_loss  Instances       Size\n"
          ]
        },
        {
          "name": "stderr",
          "output_type": "stream",
          "text": [
            "       9/35      8.27G     0.4895     0.4236      0.964         14       1280: 100%|██████████| 121/121 [00:38<00:00,  3.12it/s]\n",
            "                 Class     Images  Instances      Box(P          R      mAP50  mAP50-95): 100%|██████████| 16/16 [00:02<00:00,  6.58it/s]"
          ]
        },
        {
          "name": "stdout",
          "output_type": "stream",
          "text": [
            "                   all        211        861      0.913      0.904      0.961      0.835\n"
          ]
        },
        {
          "name": "stderr",
          "output_type": "stream",
          "text": [
            "\n"
          ]
        },
        {
          "name": "stdout",
          "output_type": "stream",
          "text": [
            "\n",
            "      Epoch    GPU_mem   box_loss   cls_loss   dfl_loss  Instances       Size\n"
          ]
        },
        {
          "name": "stderr",
          "output_type": "stream",
          "text": [
            "      10/35      8.26G     0.4674     0.4119     0.9533          7       1280: 100%|██████████| 121/121 [00:38<00:00,  3.11it/s]\n",
            "                 Class     Images  Instances      Box(P          R      mAP50  mAP50-95): 100%|██████████| 16/16 [00:02<00:00,  6.49it/s]"
          ]
        },
        {
          "name": "stdout",
          "output_type": "stream",
          "text": [
            "                   all        211        861      0.946       0.95      0.986      0.895\n"
          ]
        },
        {
          "name": "stderr",
          "output_type": "stream",
          "text": [
            "\n"
          ]
        },
        {
          "name": "stdout",
          "output_type": "stream",
          "text": [
            "\n",
            "      Epoch    GPU_mem   box_loss   cls_loss   dfl_loss  Instances       Size\n"
          ]
        },
        {
          "name": "stderr",
          "output_type": "stream",
          "text": [
            "      11/35      8.28G     0.4517     0.3996     0.9403          8       1280: 100%|██████████| 121/121 [00:39<00:00,  3.10it/s]\n",
            "                 Class     Images  Instances      Box(P          R      mAP50  mAP50-95): 100%|██████████| 16/16 [00:02<00:00,  6.59it/s]"
          ]
        },
        {
          "name": "stdout",
          "output_type": "stream",
          "text": [
            "                   all        211        861      0.966      0.932      0.982      0.892\n"
          ]
        },
        {
          "name": "stderr",
          "output_type": "stream",
          "text": [
            "\n"
          ]
        },
        {
          "name": "stdout",
          "output_type": "stream",
          "text": [
            "\n",
            "      Epoch    GPU_mem   box_loss   cls_loss   dfl_loss  Instances       Size\n"
          ]
        },
        {
          "name": "stderr",
          "output_type": "stream",
          "text": [
            "      12/35      8.29G     0.4272     0.3769     0.9348          4       1280: 100%|██████████| 121/121 [00:39<00:00,  3.10it/s]\n",
            "                 Class     Images  Instances      Box(P          R      mAP50  mAP50-95): 100%|██████████| 16/16 [00:02<00:00,  6.53it/s]"
          ]
        },
        {
          "name": "stdout",
          "output_type": "stream",
          "text": [
            "                   all        211        861      0.945       0.96      0.984       0.91\n"
          ]
        },
        {
          "name": "stderr",
          "output_type": "stream",
          "text": [
            "\n"
          ]
        },
        {
          "name": "stdout",
          "output_type": "stream",
          "text": [
            "\n",
            "      Epoch    GPU_mem   box_loss   cls_loss   dfl_loss  Instances       Size\n"
          ]
        },
        {
          "name": "stderr",
          "output_type": "stream",
          "text": [
            "      13/35      8.28G     0.4302     0.3646     0.9376         14       1280: 100%|██████████| 121/121 [00:39<00:00,  3.04it/s]\n",
            "                 Class     Images  Instances      Box(P          R      mAP50  mAP50-95): 100%|██████████| 16/16 [00:02<00:00,  6.30it/s]"
          ]
        },
        {
          "name": "stdout",
          "output_type": "stream",
          "text": [
            "                   all        211        861      0.957      0.962      0.986      0.913\n"
          ]
        },
        {
          "name": "stderr",
          "output_type": "stream",
          "text": [
            "\n"
          ]
        },
        {
          "name": "stdout",
          "output_type": "stream",
          "text": [
            "\n",
            "      Epoch    GPU_mem   box_loss   cls_loss   dfl_loss  Instances       Size\n"
          ]
        },
        {
          "name": "stderr",
          "output_type": "stream",
          "text": [
            "      14/35      8.28G     0.4069     0.3498     0.9268         38       1280:  93%|█████████▎| 112/121 [00:36<00:02,  3.06it/s]"
          ]
        }
      ],
      "source": [
        "# Load a model\n",
        "model = YOLO('yolov8s.pt')  # load a pretrained model (recommended for training)\n",
        "\n",
        "#choose dataset\n",
        "dataset_name='cone_1000_newRand_2'\n",
        "dst=f'{home}/datasets/{dataset_name}'\n",
        "\n",
        "\n",
        "# Train the model\n",
        "results = model.train(data=f'{dst}/{dataset_name}.yaml', \n",
        "                      epochs=35, imgsz=1280, name=dataset_name, batch=-1, cache=True)"
      ]
    },
    {
      "cell_type": "code",
      "execution_count": 5,
      "metadata": {},
      "outputs": [
        {
          "name": "stdout",
          "output_type": "stream",
          "text": [
            "Ultralytics YOLOv8.2.10 🚀 Python-3.12.3 torch-2.3.0+cu121 CPU (12th Gen Intel Core(TM) i7-12850HX)\n",
            "Model summary (fused): 168 layers, 11125971 parameters, 0 gradients, 28.4 GFLOPs\n",
            "\n",
            "\u001b[34m\u001b[1mPyTorch:\u001b[0m starting from 's_ubuntu_640.pt' with input shape (1, 3, 640, 640) BCHW and output shape(s) (1, 5, 8400) (21.5 MB)\n",
            "\n",
            "\u001b[34m\u001b[1mONNX:\u001b[0m starting export with onnx 1.16.0 opset 17...\n",
            "\u001b[34m\u001b[1mONNX:\u001b[0m export success ✅ 1.1s, saved as 's_ubuntu_640.onnx' (42.6 MB)\n",
            "\n",
            "Export complete (2.8s)\n",
            "Results saved to \u001b[1m/home/campus/Documents/Pythonscript\u001b[0m\n",
            "Predict:         yolo predict task=detect model=s_ubuntu_640.onnx imgsz=640  \n",
            "Validate:        yolo val task=detect model=s_ubuntu_640.onnx imgsz=640 data=/home/campus/datasets/cone_1000_newRand_2/cone_1000_newRand_2.yaml  \n",
            "Visualize:       https://netron.app\n"
          ]
        },
        {
          "data": {
            "text/plain": [
              "'s_ubuntu_640.onnx'"
            ]
          },
          "execution_count": 5,
          "metadata": {},
          "output_type": "execute_result"
        }
      ],
      "source": [
        "from ultralytics import YOLO\n",
        "\n",
        "# Load a model\n",
        "model = YOLO(r's_ubuntu_640.pt')  # load a custom trained model\n",
        "\n",
        "# Export the model\n",
        "model.export(format='onnx')"
      ]
    }
  ],
  "metadata": {
    "accelerator": "GPU",
    "colab": {
      "gpuType": "T4",
      "provenance": []
    },
    "kernelspec": {
      "display_name": "Python 3",
      "name": "python3"
    },
    "language_info": {
      "codemirror_mode": {
        "name": "ipython",
        "version": 3
      },
      "file_extension": ".py",
      "mimetype": "text/x-python",
      "name": "python",
      "nbconvert_exporter": "python",
      "pygments_lexer": "ipython3",
      "version": "3.12.3"
    }
  },
  "nbformat": 4,
  "nbformat_minor": 0
}
